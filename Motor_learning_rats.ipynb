{
  "cells": [
    {
      "cell_type": "markdown",
      "metadata": {
        "execution": {},
        "id": "YiGK7BsCPdsF"
      },
      "source": [
        "# Analysis Of Motor Learning In A Reaching Task For Rats.\n",
        "\n",
        "\n",
        "**According to \"An Information-Theoretic Approach to\n",
        "Deciphering the Hippocampal Code\" paper**\n",
        "\n",
        "**By Morteza Mahdiani**\n",
        "\n",
        "__Date:__ Tuesday 6 September, 2022\n"
      ]
    },
    {
      "cell_type": "markdown",
      "metadata": {
        "execution": {},
        "id": "A4cCzHtHPdsH"
      },
      "source": [
        "---\n",
        "# General View And Theory\n",
        "\n",
        "*Measure the information conveyed from neurons*\n",
        "\n",
        "The paper is looking for measuring the information conveyed in place cells. The general idea is to use *Information Theory* concepts. By looking through the mutual information conveyed about one discrete random vriable in another discrete random variable, we have:\n",
        "\n",
        "\\begin{align}\n",
        "I(Y \\mid X) = \\sum_{i, j} p(y_i \\mid x_j) \\log_2\\frac{p(y_i \\mid x_j) }{p(y_i)} p(x_j),   \n",
        "\\end{align}\n",
        "\n",
        "and also according to the definitions and what paper states, we have these assumptions where S is the event of spiking, X is the location of spiking, λ is the mean firing rate, Δt is the time interval and obviously P() is the probablity of spiking:\n",
        "\n",
        "\\begin{align}\n",
        " P(S = 1 \\mid X=j) = \\lambda_j Δt,\n",
        "\\end{align}\n",
        "\n",
        "and \n",
        "\n",
        "\\begin{align}\n",
        " P(S = 1 ) = \\lambda Δt,\n",
        "\\end{align}\n",
        "\n",
        "and \n",
        "\n",
        "\\begin{align}\n",
        " \\lambda = \\sum_j \\lambda_j p_j = \\sum_j \\lambda_j P(X=j).\n",
        "\\end{align}\n",
        "\n",
        "Consider these two changes: \n",
        "\n",
        "- Using (S = 1) instead of \\begin{align}y_i \\end{align} \n",
        "\n",
        "- Using (X = j) instead of \\begin{align}x_j \\end{align}\n",
        "\n",
        "\n",
        " We are investigating the information conveyed whenever the neuron is spiking so we need the situations where S = 1 and skip iterations over this term in the equation. Then we have:\n",
        "\n",
        "\\begin{align}\n",
        "I(S=1 \\mid X=j) = \\sum_{j} P(S=1 \\mid X=j) \\log_2\\frac{P(S=1 \\mid X=j) }{P(S=1)} P(X=j)   \n",
        "\\end{align}\n",
        "\n",
        "So after assumptions were plugged in to the above equation and by expanding it, we have:\n",
        "\n",
        "\\begin{align}\n",
        "I(S=1 \\mid X=j) = \\sum_{j} \\lambda_j Δt \\log_2\\frac{\\lambda_j Δt}{\\lambda Δt} p_j   \n",
        "\\end{align}\n",
        "\n",
        "Then we have:\n",
        "\n",
        "\\begin{align}\n",
        "I(S=1 \\mid X=j) = \\sum_{j} \\lambda_j Δt \\log_2\\frac{\\lambda_j}{\\lambda} p_j   \n",
        "\\end{align}\n",
        "\n",
        "And finally:\n",
        "\n",
        "\\begin{align}\n",
        "\\frac{I(S=1 \\mid X=j)}{Δt} = \\sum_{j} \\lambda_j  \\log_2\\frac{\\lambda_j}{\\lambda} p_j   \n",
        "\\end{align}\n",
        "\n",
        "Here we see the \"j\"s tend to infinity so we consider the Riemann definition of the integrals. The integral as the area of a region under a curve. Therefore we can convert the summation to integral. So, we have:\n",
        "\n",
        "\\begin{align}\n",
        "I = \\frac{I(S=1 \\mid X=j)}{Δt} = \\lim_{j \\to \\infty}  \\sum_{j} \\lambda_j \\log_2\\frac{\\lambda_j}{\\lambda} p_j = &\\int_x \\lambda(x)  \\log_2\\frac{\\lambda(x)}{\\lambda} p(x) \\mathrm{d}x \n",
        "\\end{align}\n",
        "\n",
        "\n",
        "Where:\n",
        "\n",
        "\\begin{align}\n",
        "λ(x) = λ_j \\newline\n",
        "p(x) =  p_j\n",
        "\\end{align}\n",
        "\n",
        "The final formula leads us to the information per second ratio(bits per second). We can divide it by λ that is mean fitring rate(spikes per second) and conclude a new measure for specificity that is information per spike."
      ]
    },
    {
      "cell_type": "markdown",
      "metadata": {
        "execution": {},
        "id": "zI6VztUoPdsI"
      },
      "source": [
        "---\n",
        "# Implement The Formula"
      ]
    },
    {
      "cell_type": "code",
      "execution_count": null,
      "metadata": {
        "cellView": "both",
        "execution": {},
        "id": "e22ukDUuPdsI"
      },
      "outputs": [],
      "source": [
        "# Imports\n",
        "import numpy as np\n",
        "import matplotlib.pyplot as plt\n",
        "import ipywidgets as widgets\n",
        "from scipy.integrate import quad\n",
        "from ipywidgets import interactive\n",
        "from ipywidgets import FloatSlider\n",
        "from ipywidgets import IntSlider\n",
        "import math "
      ]
    },
    {
      "cell_type": "code",
      "source": [
        "# function definitions\n",
        "def integrand(lam_x, lam, p):\n",
        "    return lam_x * math.log2(p*lam_x/lam)\n",
        "\n",
        "def Info(j, lam, p):\n",
        "    i = quad(integrand, 1, np.inf, args=(lam, p))\n",
        "\n",
        "    display(i[0])\n",
        "    return i[0]\n"
      ],
      "metadata": {
        "id": "Na5EYFQpSH5R"
      },
      "execution_count": null,
      "outputs": []
    },
    {
      "cell_type": "code",
      "source": [
        "# change the parameter and see the imformation per seconds conveyed from the porposed cell\n",
        "widg = interactive(Info, j=IntSlider(1, min = 1), lam=FloatSlider(0.5, step=0.01, max=100), p= FloatSlider(0.5, step=0.01, max=1, min=0.000001))\n",
        "display(widg)"
      ],
      "metadata": {
        "colab": {
          "base_uri": "https://localhost:8080/",
          "height": 167,
          "referenced_widgets": [
            "a582021f647444dc8d4e1c9e69e0d844",
            "a5e00d6da2834087ab654799040335a6",
            "78e803d9d49e4e6290cdd4bee7951630",
            "296eaeaf750f4e209aef4157d5757d4f",
            "6f64577385b14748ae6e01213e281c41",
            "16a75173e08146089d2d50a75e98135d",
            "04b3619b29074bf7a167da7f1c0e0358",
            "5926014a33a94413b3e679df9499e661",
            "ae9369f52d534d0f9a874ad95d8aa815",
            "fcc906eeef9a4d2ca3a84716be1a35f1",
            "10ffcc2c1b03463995792297fd4524af",
            "81e01673c7584ae7a9ae814ccb287b96",
            "2610431aa55c48f48345acee0c81e79a"
          ]
        },
        "id": "U87cHNA-SkN7",
        "outputId": "21e1ea35-b9db-4c44-a865-51fbaa8b50c8"
      },
      "execution_count": null,
      "outputs": [
        {
          "output_type": "display_data",
          "data": {
            "text/plain": [
              "interactive(children=(IntSlider(value=1, description='j', min=1), FloatSlider(value=0.5, description='lam', st…"
            ],
            "application/vnd.jupyter.widget-view+json": {
              "version_major": 2,
              "version_minor": 0,
              "model_id": "a582021f647444dc8d4e1c9e69e0d844"
            }
          },
          "metadata": {}
        }
      ]
    },
    {
      "cell_type": "markdown",
      "metadata": {
        "execution": {},
        "id": "Y-JnyO1_PdsO"
      },
      "source": [
        "---\n",
        "# In A Brief View\n",
        "\n",
        "The paper present a new criteria for measuring the information conveyed in a cell for different experimental variables by the means of its firing rate. The formula is based on information theory. The focus of this study is on place cells at hippocampus of rats. Their firing rates changes at specific locations. The inputs of formula can be one or a combination of mesured experimental variables and the output would be the information conveyed in a brief time interval as well. Also it can be used for the changes in the information content conveyed from an specific cell due to changes in the environmental or experimental situations. \n"
      ]
    }
  ],
  "metadata": {
    "colab": {
      "collapsed_sections": [],
      "provenance": []
    },
    "kernel": {
      "display_name": "Python 3",
      "language": "python",
      "name": "python3"
    },
    "kernelspec": {
      "display_name": "Python 3",
      "name": "python3"
    },
    "language_info": {
      "codemirror_mode": {
        "name": "ipython",
        "version": 3
      },
      "file_extension": ".py",
      "mimetype": "text/x-python",
      "name": "python",
      "nbconvert_exporter": "python",
      "pygments_lexer": "ipython3",
      "version": "3.7.13"
    },
    "widgets": {
      "application/vnd.jupyter.widget-state+json": {
        "a582021f647444dc8d4e1c9e69e0d844": {
          "model_module": "@jupyter-widgets/controls",
          "model_name": "VBoxModel",
          "model_module_version": "1.5.0",
          "state": {
            "_dom_classes": [
              "widget-interact"
            ],
            "_model_module": "@jupyter-widgets/controls",
            "_model_module_version": "1.5.0",
            "_model_name": "VBoxModel",
            "_view_count": null,
            "_view_module": "@jupyter-widgets/controls",
            "_view_module_version": "1.5.0",
            "_view_name": "VBoxView",
            "box_style": "",
            "children": [
              "IPY_MODEL_a5e00d6da2834087ab654799040335a6",
              "IPY_MODEL_78e803d9d49e4e6290cdd4bee7951630",
              "IPY_MODEL_296eaeaf750f4e209aef4157d5757d4f",
              "IPY_MODEL_6f64577385b14748ae6e01213e281c41"
            ],
            "layout": "IPY_MODEL_16a75173e08146089d2d50a75e98135d"
          }
        },
        "a5e00d6da2834087ab654799040335a6": {
          "model_module": "@jupyter-widgets/controls",
          "model_name": "IntSliderModel",
          "model_module_version": "1.5.0",
          "state": {
            "_dom_classes": [],
            "_model_module": "@jupyter-widgets/controls",
            "_model_module_version": "1.5.0",
            "_model_name": "IntSliderModel",
            "_view_count": null,
            "_view_module": "@jupyter-widgets/controls",
            "_view_module_version": "1.5.0",
            "_view_name": "IntSliderView",
            "continuous_update": true,
            "description": "j",
            "description_tooltip": null,
            "disabled": false,
            "layout": "IPY_MODEL_04b3619b29074bf7a167da7f1c0e0358",
            "max": 100,
            "min": 1,
            "orientation": "horizontal",
            "readout": true,
            "readout_format": "d",
            "step": 1,
            "style": "IPY_MODEL_5926014a33a94413b3e679df9499e661",
            "value": 1
          }
        },
        "78e803d9d49e4e6290cdd4bee7951630": {
          "model_module": "@jupyter-widgets/controls",
          "model_name": "FloatSliderModel",
          "model_module_version": "1.5.0",
          "state": {
            "_dom_classes": [],
            "_model_module": "@jupyter-widgets/controls",
            "_model_module_version": "1.5.0",
            "_model_name": "FloatSliderModel",
            "_view_count": null,
            "_view_module": "@jupyter-widgets/controls",
            "_view_module_version": "1.5.0",
            "_view_name": "FloatSliderView",
            "continuous_update": true,
            "description": "lam",
            "description_tooltip": null,
            "disabled": false,
            "layout": "IPY_MODEL_ae9369f52d534d0f9a874ad95d8aa815",
            "max": 100,
            "min": 0,
            "orientation": "horizontal",
            "readout": true,
            "readout_format": ".2f",
            "step": 0.01,
            "style": "IPY_MODEL_fcc906eeef9a4d2ca3a84716be1a35f1",
            "value": 0.5
          }
        },
        "296eaeaf750f4e209aef4157d5757d4f": {
          "model_module": "@jupyter-widgets/controls",
          "model_name": "FloatSliderModel",
          "model_module_version": "1.5.0",
          "state": {
            "_dom_classes": [],
            "_model_module": "@jupyter-widgets/controls",
            "_model_module_version": "1.5.0",
            "_model_name": "FloatSliderModel",
            "_view_count": null,
            "_view_module": "@jupyter-widgets/controls",
            "_view_module_version": "1.5.0",
            "_view_name": "FloatSliderView",
            "continuous_update": true,
            "description": "p",
            "description_tooltip": null,
            "disabled": false,
            "layout": "IPY_MODEL_10ffcc2c1b03463995792297fd4524af",
            "max": 1,
            "min": 0.000001,
            "orientation": "horizontal",
            "readout": true,
            "readout_format": ".2f",
            "step": 0.01,
            "style": "IPY_MODEL_81e01673c7584ae7a9ae814ccb287b96",
            "value": 0.5
          }
        },
        "6f64577385b14748ae6e01213e281c41": {
          "model_module": "@jupyter-widgets/output",
          "model_name": "OutputModel",
          "model_module_version": "1.0.0",
          "state": {
            "_dom_classes": [],
            "_model_module": "@jupyter-widgets/output",
            "_model_module_version": "1.0.0",
            "_model_name": "OutputModel",
            "_view_count": null,
            "_view_module": "@jupyter-widgets/output",
            "_view_module_version": "1.0.0",
            "_view_name": "OutputView",
            "layout": "IPY_MODEL_2610431aa55c48f48345acee0c81e79a",
            "msg_id": "",
            "outputs": [
              {
                "output_type": "stream",
                "name": "stderr",
                "text": [
                  "/usr/local/lib/python3.7/dist-packages/ipykernel_launcher.py:6: IntegrationWarning: The integral is probably divergent, or slowly convergent.\n",
                  "  \n"
                ]
              },
              {
                "output_type": "display_data",
                "data": {
                  "text/plain": "0.3606737582397669"
                },
                "metadata": {}
              }
            ]
          }
        },
        "16a75173e08146089d2d50a75e98135d": {
          "model_module": "@jupyter-widgets/base",
          "model_name": "LayoutModel",
          "model_module_version": "1.2.0",
          "state": {
            "_model_module": "@jupyter-widgets/base",
            "_model_module_version": "1.2.0",
            "_model_name": "LayoutModel",
            "_view_count": null,
            "_view_module": "@jupyter-widgets/base",
            "_view_module_version": "1.2.0",
            "_view_name": "LayoutView",
            "align_content": null,
            "align_items": null,
            "align_self": null,
            "border": null,
            "bottom": null,
            "display": null,
            "flex": null,
            "flex_flow": null,
            "grid_area": null,
            "grid_auto_columns": null,
            "grid_auto_flow": null,
            "grid_auto_rows": null,
            "grid_column": null,
            "grid_gap": null,
            "grid_row": null,
            "grid_template_areas": null,
            "grid_template_columns": null,
            "grid_template_rows": null,
            "height": null,
            "justify_content": null,
            "justify_items": null,
            "left": null,
            "margin": null,
            "max_height": null,
            "max_width": null,
            "min_height": null,
            "min_width": null,
            "object_fit": null,
            "object_position": null,
            "order": null,
            "overflow": null,
            "overflow_x": null,
            "overflow_y": null,
            "padding": null,
            "right": null,
            "top": null,
            "visibility": null,
            "width": null
          }
        },
        "04b3619b29074bf7a167da7f1c0e0358": {
          "model_module": "@jupyter-widgets/base",
          "model_name": "LayoutModel",
          "model_module_version": "1.2.0",
          "state": {
            "_model_module": "@jupyter-widgets/base",
            "_model_module_version": "1.2.0",
            "_model_name": "LayoutModel",
            "_view_count": null,
            "_view_module": "@jupyter-widgets/base",
            "_view_module_version": "1.2.0",
            "_view_name": "LayoutView",
            "align_content": null,
            "align_items": null,
            "align_self": null,
            "border": null,
            "bottom": null,
            "display": null,
            "flex": null,
            "flex_flow": null,
            "grid_area": null,
            "grid_auto_columns": null,
            "grid_auto_flow": null,
            "grid_auto_rows": null,
            "grid_column": null,
            "grid_gap": null,
            "grid_row": null,
            "grid_template_areas": null,
            "grid_template_columns": null,
            "grid_template_rows": null,
            "height": null,
            "justify_content": null,
            "justify_items": null,
            "left": null,
            "margin": null,
            "max_height": null,
            "max_width": null,
            "min_height": null,
            "min_width": null,
            "object_fit": null,
            "object_position": null,
            "order": null,
            "overflow": null,
            "overflow_x": null,
            "overflow_y": null,
            "padding": null,
            "right": null,
            "top": null,
            "visibility": null,
            "width": null
          }
        },
        "5926014a33a94413b3e679df9499e661": {
          "model_module": "@jupyter-widgets/controls",
          "model_name": "SliderStyleModel",
          "model_module_version": "1.5.0",
          "state": {
            "_model_module": "@jupyter-widgets/controls",
            "_model_module_version": "1.5.0",
            "_model_name": "SliderStyleModel",
            "_view_count": null,
            "_view_module": "@jupyter-widgets/base",
            "_view_module_version": "1.2.0",
            "_view_name": "StyleView",
            "description_width": "",
            "handle_color": null
          }
        },
        "ae9369f52d534d0f9a874ad95d8aa815": {
          "model_module": "@jupyter-widgets/base",
          "model_name": "LayoutModel",
          "model_module_version": "1.2.0",
          "state": {
            "_model_module": "@jupyter-widgets/base",
            "_model_module_version": "1.2.0",
            "_model_name": "LayoutModel",
            "_view_count": null,
            "_view_module": "@jupyter-widgets/base",
            "_view_module_version": "1.2.0",
            "_view_name": "LayoutView",
            "align_content": null,
            "align_items": null,
            "align_self": null,
            "border": null,
            "bottom": null,
            "display": null,
            "flex": null,
            "flex_flow": null,
            "grid_area": null,
            "grid_auto_columns": null,
            "grid_auto_flow": null,
            "grid_auto_rows": null,
            "grid_column": null,
            "grid_gap": null,
            "grid_row": null,
            "grid_template_areas": null,
            "grid_template_columns": null,
            "grid_template_rows": null,
            "height": null,
            "justify_content": null,
            "justify_items": null,
            "left": null,
            "margin": null,
            "max_height": null,
            "max_width": null,
            "min_height": null,
            "min_width": null,
            "object_fit": null,
            "object_position": null,
            "order": null,
            "overflow": null,
            "overflow_x": null,
            "overflow_y": null,
            "padding": null,
            "right": null,
            "top": null,
            "visibility": null,
            "width": null
          }
        },
        "fcc906eeef9a4d2ca3a84716be1a35f1": {
          "model_module": "@jupyter-widgets/controls",
          "model_name": "SliderStyleModel",
          "model_module_version": "1.5.0",
          "state": {
            "_model_module": "@jupyter-widgets/controls",
            "_model_module_version": "1.5.0",
            "_model_name": "SliderStyleModel",
            "_view_count": null,
            "_view_module": "@jupyter-widgets/base",
            "_view_module_version": "1.2.0",
            "_view_name": "StyleView",
            "description_width": "",
            "handle_color": null
          }
        },
        "10ffcc2c1b03463995792297fd4524af": {
          "model_module": "@jupyter-widgets/base",
          "model_name": "LayoutModel",
          "model_module_version": "1.2.0",
          "state": {
            "_model_module": "@jupyter-widgets/base",
            "_model_module_version": "1.2.0",
            "_model_name": "LayoutModel",
            "_view_count": null,
            "_view_module": "@jupyter-widgets/base",
            "_view_module_version": "1.2.0",
            "_view_name": "LayoutView",
            "align_content": null,
            "align_items": null,
            "align_self": null,
            "border": null,
            "bottom": null,
            "display": null,
            "flex": null,
            "flex_flow": null,
            "grid_area": null,
            "grid_auto_columns": null,
            "grid_auto_flow": null,
            "grid_auto_rows": null,
            "grid_column": null,
            "grid_gap": null,
            "grid_row": null,
            "grid_template_areas": null,
            "grid_template_columns": null,
            "grid_template_rows": null,
            "height": null,
            "justify_content": null,
            "justify_items": null,
            "left": null,
            "margin": null,
            "max_height": null,
            "max_width": null,
            "min_height": null,
            "min_width": null,
            "object_fit": null,
            "object_position": null,
            "order": null,
            "overflow": null,
            "overflow_x": null,
            "overflow_y": null,
            "padding": null,
            "right": null,
            "top": null,
            "visibility": null,
            "width": null
          }
        },
        "81e01673c7584ae7a9ae814ccb287b96": {
          "model_module": "@jupyter-widgets/controls",
          "model_name": "SliderStyleModel",
          "model_module_version": "1.5.0",
          "state": {
            "_model_module": "@jupyter-widgets/controls",
            "_model_module_version": "1.5.0",
            "_model_name": "SliderStyleModel",
            "_view_count": null,
            "_view_module": "@jupyter-widgets/base",
            "_view_module_version": "1.2.0",
            "_view_name": "StyleView",
            "description_width": "",
            "handle_color": null
          }
        },
        "2610431aa55c48f48345acee0c81e79a": {
          "model_module": "@jupyter-widgets/base",
          "model_name": "LayoutModel",
          "model_module_version": "1.2.0",
          "state": {
            "_model_module": "@jupyter-widgets/base",
            "_model_module_version": "1.2.0",
            "_model_name": "LayoutModel",
            "_view_count": null,
            "_view_module": "@jupyter-widgets/base",
            "_view_module_version": "1.2.0",
            "_view_name": "LayoutView",
            "align_content": null,
            "align_items": null,
            "align_self": null,
            "border": null,
            "bottom": null,
            "display": null,
            "flex": null,
            "flex_flow": null,
            "grid_area": null,
            "grid_auto_columns": null,
            "grid_auto_flow": null,
            "grid_auto_rows": null,
            "grid_column": null,
            "grid_gap": null,
            "grid_row": null,
            "grid_template_areas": null,
            "grid_template_columns": null,
            "grid_template_rows": null,
            "height": null,
            "justify_content": null,
            "justify_items": null,
            "left": null,
            "margin": null,
            "max_height": null,
            "max_width": null,
            "min_height": null,
            "min_width": null,
            "object_fit": null,
            "object_position": null,
            "order": null,
            "overflow": null,
            "overflow_x": null,
            "overflow_y": null,
            "padding": null,
            "right": null,
            "top": null,
            "visibility": null,
            "width": null
          }
        }
      }
    }
  },
  "nbformat": 4,
  "nbformat_minor": 0
}